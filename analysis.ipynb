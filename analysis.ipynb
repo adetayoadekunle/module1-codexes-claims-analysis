{
  "nbformat": 4,
  "nbformat_minor": 0,
  "metadata": {
    "colab": {
      "provenance": [],
      "authorship_tag": "ABX9TyMRpnKndKx/93MogCJF+ZNc",
      "include_colab_link": true
    },
    "kernelspec": {
      "name": "python3",
      "display_name": "Python 3"
    },
    "language_info": {
      "name": "python"
    }
  },
  "cells": [
    {
      "cell_type": "markdown",
      "metadata": {
        "id": "view-in-github",
        "colab_type": "text"
      },
      "source": [
        "<a href=\"https://colab.research.google.com/github/adetayoadekunle/module1-codexes-claims-analysis/blob/main/analysis.ipynb\" target=\"_parent\"><img src=\"https://colab.research.google.com/assets/colab-badge.svg\" alt=\"Open In Colab\"/></a>"
      ]
    },
    {
      "cell_type": "code",
      "execution_count": 2,
      "metadata": {
        "id": "d6k0lgCt72ji"
      },
      "outputs": [],
      "source": [
        "import pandas as pd"
      ]
    },
    {
      "cell_type": "code",
      "source": [
        "data = pd.read_csv ('https://data.cms.gov/sites/default/files/2023-04/67157de9-d962-4af0-bf0e-3578b3afec58/inpatient.csv', low_memory= False, sep='|')"
      ],
      "metadata": {
        "id": "hK7wowqa8MkT"
      },
      "execution_count": 12,
      "outputs": []
    },
    {
      "cell_type": "code",
      "source": [
        "print(data.head())"
      ],
      "metadata": {
        "colab": {
          "base_uri": "https://localhost:8080/"
        },
        "id": "ETk7didm83NH",
        "outputId": "d60ff5cd-3fdc-4014-f0d4-7140d727d79c"
      },
      "execution_count": 13,
      "outputs": [
        {
          "output_type": "stream",
          "name": "stdout",
          "text": [
            "          BENE_ID          CLM_ID NCH_NEAR_LINE_REC_IDENT_CD  NCH_CLM_TYPE_CD  \\\n",
            "0 -10000010254618 -10000930037831                          V               60   \n",
            "1 -10000010254653 -10000930038030                          V               60   \n",
            "2 -10000010254653 -10000930038031                          V               60   \n",
            "3 -10000010254656 -10000930038162                          V               60   \n",
            "4 -10000010254656 -10000930038162                          V               60   \n",
            "\n",
            "   CLM_FROM_DT  CLM_THRU_DT NCH_WKLY_PROC_DT  FI_CLM_PROC_DT  \\\n",
            "0  25-Mar-2015  25-Mar-2015      27-Mar-2015             NaN   \n",
            "1  24-Sep-2015  24-Sep-2015      25-Sep-2015             NaN   \n",
            "2  09-May-2017  10-May-2017      12-May-2017             NaN   \n",
            "3  14-Jan-2017  14-Jan-2017      20-Jan-2017             NaN   \n",
            "4  14-Jan-2017  14-Jan-2017      20-Jan-2017             NaN   \n",
            "\n",
            "   CLAIM_QUERY_CODE PRVDR_NUM  ...  PRCDR_DT24  ICD_PRCDR_CD25  PRCDR_DT25  \\\n",
            "0                 3    011500  ...         NaN             NaN         NaN   \n",
            "1                 3    017129  ...         NaN             NaN         NaN   \n",
            "2                 3    010052  ...         NaN             NaN         NaN   \n",
            "3                 3    015455  ...         NaN             NaN         NaN   \n",
            "4                 3    015455  ...         NaN             NaN         NaN   \n",
            "\n",
            "   IME_OP_CLM_VAL_AMT DSH_OP_CLM_VAL_AMT  CLM_UNCOMPD_CARE_PMT_AMT  \\\n",
            "0                   0                  0                       NaN   \n",
            "1                   0                  0                       NaN   \n",
            "2                   0                  0                       NaN   \n",
            "3                   0                  0                       NaN   \n",
            "4                   0                  0                       NaN   \n",
            "\n",
            "   CLM_LINE_NUM REV_CNTR  HCPCS_CD  REV_CNTR_DDCTBL_COINSRNC_CD  \n",
            "0             1      450     99221                          NaN  \n",
            "1             1      450     99221                          NaN  \n",
            "2             1        1     99024                          3.0  \n",
            "3             1      450     73610                          3.0  \n",
            "4             2      450     29515                          3.0  \n",
            "\n",
            "[5 rows x 197 columns]\n"
          ]
        }
      ]
    },
    {
      "cell_type": "code",
      "source": [
        "drg_codes = data['CLM_DRG_CD']\n",
        "icd_codes1 = data['ICD_DGNS_CD13']\n",
        "icd_codes2 = data['ICD_DGNS_CD19']\n",
        "icd_codes3 = data['ICD_PRCDR_CD2']\n",
        "icd_codes4 = data['ICD_PRCDR_CD10']\n",
        "icd_codes5 = data['ICD_PRCDR_CD18']\n",
        "icd_codes6 = data['ICD_PRCDR_CD23']\n",
        "hcpcs_codes = data['HCPCS_CD']\n"
      ],
      "metadata": {
        "id": "QdFCPRac89Ak"
      },
      "execution_count": 23,
      "outputs": []
    },
    {
      "cell_type": "code",
      "source": [
        "drg_frequency = drg_codes.value_counts()\n",
        "print(\"DRG Codes Frequency:\\n\", drg_frequency)\n",
        "icd_frequency1 = icd_codes1.value_counts()\n",
        "print(\"ICD Codes Frequency1:\\n\", icd_frequency1)\n",
        "icd_frequency2 = icd_codes2.value_counts()\n",
        "print(\"ICD Codes Frequency2:\\n\", icd_frequency2)\n",
        "icd_frequency3 = icd_codes3.value_counts()\n",
        "print(\"ICD Codes Frequency3:\\n\", icd_frequency3)\n",
        "icd_frequency4 = icd_codes4.value_counts()\n",
        "print(\"ICD Codes Frequency4:\\n\", icd_frequency4)\n",
        "icd_frequency5 = icd_codes5.value_counts()\n",
        "print(\"ICD Codes Frequency5:\\n\", icd_frequency5)\n",
        "icd_frequency6 = icd_codes6.value_counts()\n",
        "print(\"ICD Codes Frequency6:\\n\", icd_frequency6)\n",
        "hcpcs_frequency = hcpcs_codes.value_counts()\n",
        "print(\"HCPCS Codes Frequency:\\n\", hcpcs_frequency)"
      ],
      "metadata": {
        "colab": {
          "base_uri": "https://localhost:8080/"
        },
        "id": "aJMVchzZ-feW",
        "outputId": "8f62d086-86c2-4255-a0be-d5de496706bf"
      },
      "execution_count": 24,
      "outputs": [
        {
          "output_type": "stream",
          "name": "stdout",
          "text": [
            "DRG Codes Frequency:\n",
            " CLM_DRG_CD\n",
            "951.0      28831\n",
            "MISSING     3262\n",
            "950.0       1456\n",
            "949.0       1332\n",
            "922.0       1110\n",
            "           ...  \n",
            "814.0          1\n",
            "918.0          1\n",
            "870.0          1\n",
            "812.0          1\n",
            "656.0          1\n",
            "Name: count, Length: 168, dtype: int64\n",
            "ICD Codes Frequency1:\n",
            " ICD_DGNS_CD13\n",
            "E1121      3187\n",
            "E669       2558\n",
            "E8881      2053\n",
            "R7303      1762\n",
            "R931       1746\n",
            "           ... \n",
            "F02ZFYZ       1\n",
            "S73006        1\n",
            "P542          1\n",
            "M40209        1\n",
            "N136          1\n",
            "Name: count, Length: 171, dtype: int64\n",
            "ICD Codes Frequency2:\n",
            " ICD_DGNS_CD19\n",
            "R7303     2632\n",
            "E669      2428\n",
            "D649      2356\n",
            "E8881     1565\n",
            "I10       1378\n",
            "          ... \n",
            "P258         1\n",
            "T7491X       1\n",
            "T7422X       1\n",
            "Y0703        1\n",
            "E089         1\n",
            "Name: count, Length: 132, dtype: int64\n",
            "ICD Codes Frequency3:\n",
            " ICD_PRCDR_CD2\n",
            "Z741       14553\n",
            "F419        6575\n",
            "BW03ZZZ     3712\n",
            "Z9181       3645\n",
            "F08H5ZZ     2881\n",
            "T1490       2505\n",
            "Z9981       2227\n",
            "F13         2054\n",
            "G4730       1598\n",
            "Z1331       1280\n",
            "Z139         749\n",
            "Z5189        545\n",
            "M859         478\n",
            "4A1ZXQZ      374\n",
            "F1990        147\n",
            "3E033FZ      121\n",
            "07HN33Z      112\n",
            "GZ3          110\n",
            "B245ZZ3       81\n",
            "B246ZZZ       77\n",
            "Z7689         75\n",
            "B245ZZZ       75\n",
            "5A09557       74\n",
            "3E073PZ       73\n",
            "B24DZZZ       72\n",
            "B24DZZ4       71\n",
            "5A09357       70\n",
            "5A09457       68\n",
            "B246ZZ3       65\n",
            "3E07317       61\n",
            "3E073GC       54\n",
            "B246ZZ4       53\n",
            "3E073KZ       51\n",
            "B244ZZ3       50\n",
            "Z049          50\n",
            "B245ZZ4       48\n",
            "B24DZZ3       47\n",
            "B244ZZ4       45\n",
            "Z000          38\n",
            "C779          29\n",
            "B244ZZZ       27\n",
            "Z1239         20\n",
            "30277R1        4\n",
            "0HBU7ZX        2\n",
            "0HCV3ZZ        2\n",
            "0HCU3ZZ        2\n",
            "D90D2ZZ        2\n",
            "0HCU0ZZ        2\n",
            "0HBU7ZZ        2\n",
            "0HBV3ZX        2\n",
            "30233Y0        1\n",
            "Name: count, dtype: int64\n",
            "ICD Codes Frequency4:\n",
            " ICD_PRCDR_CD10\n",
            "Z9981      2073\n",
            "F08H5ZZ    1122\n",
            "F13         428\n",
            "BW03ZZZ     336\n",
            "F109         80\n",
            "Z715         41\n",
            "Z8616        25\n",
            "30277R1      18\n",
            "N289         14\n",
            "Name: count, dtype: int64\n",
            "ICD Codes Frequency5:\n",
            " ICD_PRCDR_CD18\n",
            "F08H5ZZ    229\n",
            "Z9981       49\n",
            "Z8616       46\n",
            "F13         46\n",
            "Name: count, dtype: int64\n",
            "ICD Codes Frequency6:\n",
            " ICD_PRCDR_CD23\n",
            "F08H5ZZ    81\n",
            "Z9981      50\n",
            "F13        46\n",
            "Z8616      24\n",
            "Name: count, dtype: int64\n",
            "HCPCS Codes Frequency:\n",
            " HCPCS_CD\n",
            "99221    8298\n",
            "G0444    7990\n",
            "96156    5080\n",
            "99408    4196\n",
            "99495    3867\n",
            "         ... \n",
            "S9361       1\n",
            "S9355       1\n",
            "S9374       1\n",
            "S9377       1\n",
            "G9829       1\n",
            "Name: count, Length: 106, dtype: int64\n"
          ]
        }
      ]
    },
    {
      "cell_type": "code",
      "source": [
        "missing_drg = drg_codes.isnull().sum()\n",
        "print(f\"Missing DRG Codes: {missing_drg}\")\n",
        "missing_icd1 = icd_codes1.isnull().sum()\n",
        "print(f\"Missing ICD Codes1: {missing_icd1}\")\n",
        "missing_icd2 = icd_codes2.isnull().sum()\n",
        "print(f\"Missing ICD Codes2: {missing_icd2}\")\n",
        "missing_icd3 = icd_codes1.isnull().sum()\n",
        "print(f\"Missing ICD Codes3: {missing_icd3}\")\n",
        "missing_icd4 = icd_codes4.isnull().sum()\n",
        "print(f\"Missing ICD Codes4: {missing_icd4}\")\n",
        "missing_icd5 = icd_codes5.isnull().sum()\n",
        "print(f\"Missing ICD Codes5: {missing_icd5}\")\n",
        "missing_icd6 = icd_codes6.isnull().sum()\n",
        "print(f\"Missing ICD Codes6: {missing_icd6}\")\n",
        "missing_hcpcs = hcpcs_codes.isnull().sum()\n",
        "print(f\"Missing HCPCS Codes: {missing_hcpcs}\")"
      ],
      "metadata": {
        "colab": {
          "base_uri": "https://localhost:8080/"
        },
        "id": "TStpwbpb-qcQ",
        "outputId": "678574ff-f88d-4e4c-ea7b-f760f3a98b53"
      },
      "execution_count": 20,
      "outputs": [
        {
          "output_type": "stream",
          "name": "stdout",
          "text": [
            "Missing DRG Codes: 3262\n",
            "Missing ICD Codes1: 6135\n",
            "Missing ICD Codes2: 1592\n",
            "Missing ICD Codes3: 6135\n",
            "Missing ICD Codes4: 39885\n",
            "Missing ICD Codes5: 56556\n",
            "Missing ICD Codes6: 57984\n",
            "Missing HCPCS Codes: 0\n"
          ]
        }
      ]
    },
    {
      "cell_type": "code",
      "source": [
        "data['CLM_DRG_CD'].fillna('MISSING', inplace=True)\n",
        "print(\"Top 5 Most Common DRG Codes:\\n\", drg_frequency.head())\n",
        "data['ICD_DGNS_CD13'].fillna('MISSING', inplace=True)\n",
        "print(\"Top 5 Most Common ICD Codes1:\\n\", icd_frequency1.head())\n",
        "data['ICD_DGNS_CD19'].fillna('MISSING', inplace=True)\n",
        "print(\"Top 5 Most Common ICD Codes2:\\n\", icd_frequency2.head())\n",
        "data['ICD_PRCDR_CD2'].fillna('MISSING', inplace=True)\n",
        "print(\"Top 5 Most Common ICD Codes3:\\n\", icd_frequency3.head())\n",
        "data['ICD_PRCDR_CD10'].fillna('MISSING', inplace=True)\n",
        "print(\"Top 5 Most Common ICD Codes4:\\n\", icd_frequency4.head())\n",
        "data['ICD_PRCDR_CD18'].fillna('MISSING', inplace=True)\n",
        "print(\"Top 5 Most Common ICD Codes5:\\n\", icd_frequency5.head())\n",
        "data['ICD_PRCDR_CD23'].fillna('MISSING', inplace=True)\n",
        "print(\"Top 5 Most Common ICD Codes6:\\n\", icd_frequency6.head())\n",
        "data['HCPCS_CD'].fillna('MISSING', inplace=True)\n",
        "print(\"Top 5 Most Common HCPCS Codes:\\n\", hcpcs_frequency.head())"
      ],
      "metadata": {
        "colab": {
          "base_uri": "https://localhost:8080/"
        },
        "id": "euXoJv8R-uoI",
        "outputId": "2fa33261-ffc6-4cbb-963d-de21aba1d0a0"
      },
      "execution_count": 25,
      "outputs": [
        {
          "output_type": "stream",
          "name": "stdout",
          "text": [
            "Top 5 Most Common DRG Codes:\n",
            " CLM_DRG_CD\n",
            "951.0      28831\n",
            "MISSING     3262\n",
            "950.0       1456\n",
            "949.0       1332\n",
            "922.0       1110\n",
            "Name: count, dtype: int64\n",
            "Top 5 Most Common ICD Codes1:\n",
            " ICD_DGNS_CD13\n",
            "E1121    3187\n",
            "E669     2558\n",
            "E8881    2053\n",
            "R7303    1762\n",
            "R931     1746\n",
            "Name: count, dtype: int64\n",
            "Top 5 Most Common ICD Codes2:\n",
            " ICD_DGNS_CD19\n",
            "R7303    2632\n",
            "E669     2428\n",
            "D649     2356\n",
            "E8881    1565\n",
            "I10      1378\n",
            "Name: count, dtype: int64\n",
            "Top 5 Most Common ICD Codes3:\n",
            " ICD_PRCDR_CD2\n",
            "Z741       14553\n",
            "F419        6575\n",
            "BW03ZZZ     3712\n",
            "Z9181       3645\n",
            "F08H5ZZ     2881\n",
            "Name: count, dtype: int64\n",
            "Top 5 Most Common ICD Codes4:\n",
            " ICD_PRCDR_CD10\n",
            "Z9981      2073\n",
            "F08H5ZZ    1122\n",
            "F13         428\n",
            "BW03ZZZ     336\n",
            "F109         80\n",
            "Name: count, dtype: int64\n",
            "Top 5 Most Common ICD Codes5:\n",
            " ICD_PRCDR_CD18\n",
            "F08H5ZZ    229\n",
            "Z9981       49\n",
            "Z8616       46\n",
            "F13         46\n",
            "Name: count, dtype: int64\n",
            "Top 5 Most Common ICD Codes6:\n",
            " ICD_PRCDR_CD23\n",
            "F08H5ZZ    81\n",
            "Z9981      50\n",
            "F13        46\n",
            "Z8616      24\n",
            "Name: count, dtype: int64\n",
            "Top 5 Most Common HCPCS Codes:\n",
            " HCPCS_CD\n",
            "99221    8298\n",
            "G0444    7990\n",
            "96156    5080\n",
            "99408    4196\n",
            "99495    3867\n",
            "Name: count, dtype: int64\n"
          ]
        }
      ]
    }
  ]
}